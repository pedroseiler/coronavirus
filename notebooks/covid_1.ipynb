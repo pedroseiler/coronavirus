{
 "cells": [
  {
   "cell_type": "markdown",
   "metadata": {},
   "source": [
    "## 0. Set up"
   ]
  },
  {
   "cell_type": "code",
   "execution_count": 159,
   "metadata": {},
   "outputs": [],
   "source": [
    "import warnings\n",
    "warnings.filterwarnings('ignore')"
   ]
  },
  {
   "cell_type": "code",
   "execution_count": 160,
   "metadata": {},
   "outputs": [],
   "source": [
    "import pandas as pd\n",
    "import numpy as np\n",
    "import seaborn as sns; sns.set()\n",
    "import matplotlib.pyplot as plt\n",
    "import matplotlib.ticker as ticker\n",
    "from datetime import datetime"
   ]
  },
  {
   "cell_type": "markdown",
   "metadata": {},
   "source": [
    "## 1. Funções"
   ]
  },
  {
   "cell_type": "code",
   "execution_count": 558,
   "metadata": {},
   "outputs": [],
   "source": [
    "def groupby_location(dataframe, country, date_column, location_column, \n",
    "    list_of_cases_columns, location = None\n",
    "    ):\n",
    "    \n",
    "    list_of_columns = [date_column, location_column]\n",
    "    for column in list_of_cases_columns:\n",
    "        list_of_columns.append(column)\n",
    "    dict_of_columns = {}\n",
    "    for column in list_of_cases_columns:\n",
    "        dict_of_columns[column] = \"sum\"\n",
    "    \n",
    "    if location is None:     \n",
    "        dataframe = dataframe[list_of_columns]\n",
    "        dataframe = (dataframe\n",
    "                         .groupby([date_column])\n",
    "                         .agg(dict_of_columns)\n",
    "                         .reset_index())\n",
    "        dataframe[\"location\"] = country\n",
    "        dataframe = dataframe.sort_values(by=date_column)\n",
    "    else:\n",
    "        dataframe = dataframe[dataframe[location_column] == location]\n",
    "        dataframe = dataframe[list_of_columns]\n",
    "        dataframe = (dataframe\n",
    "                         .groupby([date_column])\n",
    "                         .agg(dict_of_columns)\n",
    "                         .reset_index())\n",
    "        dataframe[\"location\"] = location\n",
    "        dataframe = dataframe.sort_values(by=date_column)\n",
    "        \n",
    "    return dataframe\n",
    "\n",
    "def correcting_types(dataframe, date_column, date_format, list_of_cases_columns):\n",
    "    dataframe[date_column] = (dataframe[date_column]\n",
    "                             .apply(lambda x: datetime.strptime(x, date_format)))\n",
    "    \n",
    "    for column in list_of_cases_columns:\n",
    "        dataframe[column] = dataframe[column].astype(float)\n",
    "        \n",
    "    return dataframe    \n",
    "\n",
    "def create_date_table(start, end):\n",
    "    dataframe = pd.DataFrame({\"date\": pd.date_range(start, end)})\n",
    "    \n",
    "    return dataframe\n",
    "\n",
    "def get_date_index(dataframe, date_column, cases_column, max_date):\n",
    "    calendar = create_date_table(min(dataframe[dataframe[cases_column]>=1][date_column]), max_date)\n",
    "    calendar = calendar.reset_index()\n",
    "    calendar.rename(columns={'index':'date_index'}, inplace=True)\n",
    "    calendar['date_index'] = calendar['date_index'] + 1\n",
    "    \n",
    "    return calendar\n",
    "\n",
    "def date_linear_coef(dataframe, date_column, cases_column, max_date, index):\n",
    "    calendar = get_date_index(dataframe, date_column, cases_column, max_date)\n",
    "    dataframe = dataframe[dataframe[cases_column]>=1]\n",
    "    dataframe = dataframe.merge(calendar, how = \"left\", on=date_column)\n",
    "    a, b = np.polyfit(dataframe[index], np.log(dataframe[cases_column]), 1)\n",
    "    \n",
    "    return a, b\n",
    "\n",
    "def date_linear_predict(dataframe, date_column, cases_column, location_column, max_date, index):\n",
    "    a,b = date_linear_coef(dataframe, date_column, cases_column, max_date, index)\n",
    "    predictions = get_date_index(dataframe, date_column, cases_column, max_date)\n",
    "    predictions['date_predict'] = predictions[index].apply(lambda x: float(a)*float(x) + float(b))\n",
    "    predictions['location'] = dataframe[location_column].max()\n",
    "    \n",
    "    return predictions"
   ]
  },
  {
   "cell_type": "markdown",
   "metadata": {},
   "source": [
    "## 2. Bases de dados"
   ]
  },
  {
   "cell_type": "code",
   "execution_count": 559,
   "metadata": {},
   "outputs": [],
   "source": [
    "covid19_br_kaggle = pd.read_csv(\"../data/coronavirus_brazil_kaggle/brazil_covid19.csv\")\n",
    "covid19_br_vicosa_cites = pd.read_csv(\"../data/coronavirus_brazil_vicosa/cases-brazil-cities.csv\")\n",
    "covid19_br_vicosa_cites_times = pd.read_csv(\"../data/coronavirus_brazil_vicosa/cases-brazil-cities-time.csv\")\n",
    "covid19_br_vicosa_states = pd.read_csv(\"../data/coronavirus_brazil_vicosa/cases-brazil-states.csv\")\n",
    "covid19_br_vicosa_brazil = pd.read_csv(\"../data/coronavirus_brazil_vicosa/cases-brazil-total.csv\")\n",
    "gov_br_novocoronavirus = pd.read_csv(\"../data/coronavirus_brazil_vicosa/plataforma-saude-gov-br-novocoronavirus.csv\")\n",
    "covid19_br_nagano = pd.read_csv(\"../data/coronavirus_nagano/base_diaria.csv\")"
   ]
  },
  {
   "cell_type": "markdown",
   "metadata": {},
   "source": [
    "#### 1.1 Exploração de dados premliminar"
   ]
  },
  {
   "cell_type": "markdown",
   "metadata": {},
   "source": [
    "##### kaggle_brazil"
   ]
  },
  {
   "cell_type": "code",
   "execution_count": 560,
   "metadata": {},
   "outputs": [
    {
     "name": "stdout",
     "output_type": "stream",
     "text": [
      "<class 'pandas.core.frame.DataFrame'>\n",
      "RangeIndex: 981 entries, 0 to 980\n",
      "Data columns (total 7 columns):\n",
      " #   Column    Non-Null Count  Dtype \n",
      "---  ------    --------------  ----- \n",
      " 0   date      981 non-null    object\n",
      " 1   hour      684 non-null    object\n",
      " 2   state     981 non-null    object\n",
      " 3   suspects  981 non-null    int64 \n",
      " 4   refuses   981 non-null    int64 \n",
      " 5   cases     981 non-null    int64 \n",
      " 6   deaths    981 non-null    int64 \n",
      "dtypes: int64(4), object(3)\n",
      "memory usage: 53.8+ KB\n"
     ]
    }
   ],
   "source": [
    "covid19_br_kaggle.info()"
   ]
  },
  {
   "cell_type": "code",
   "execution_count": 561,
   "metadata": {},
   "outputs": [
    {
     "data": {
      "text/html": [
       "<div>\n",
       "<style scoped>\n",
       "    .dataframe tbody tr th:only-of-type {\n",
       "        vertical-align: middle;\n",
       "    }\n",
       "\n",
       "    .dataframe tbody tr th {\n",
       "        vertical-align: top;\n",
       "    }\n",
       "\n",
       "    .dataframe thead th {\n",
       "        text-align: right;\n",
       "    }\n",
       "</style>\n",
       "<table border=\"1\" class=\"dataframe\">\n",
       "  <thead>\n",
       "    <tr style=\"text-align: right;\">\n",
       "      <th></th>\n",
       "      <th>date</th>\n",
       "      <th>hour</th>\n",
       "      <th>state</th>\n",
       "      <th>suspects</th>\n",
       "      <th>refuses</th>\n",
       "      <th>cases</th>\n",
       "      <th>deaths</th>\n",
       "    </tr>\n",
       "  </thead>\n",
       "  <tbody>\n",
       "    <tr>\n",
       "      <th>0</th>\n",
       "      <td>2020-01-30</td>\n",
       "      <td>16:00</td>\n",
       "      <td>Minas Gerais</td>\n",
       "      <td>1</td>\n",
       "      <td>0</td>\n",
       "      <td>0</td>\n",
       "      <td>0</td>\n",
       "    </tr>\n",
       "    <tr>\n",
       "      <th>1</th>\n",
       "      <td>2020-01-30</td>\n",
       "      <td>16:00</td>\n",
       "      <td>Rio de Janeiro</td>\n",
       "      <td>1</td>\n",
       "      <td>0</td>\n",
       "      <td>0</td>\n",
       "      <td>0</td>\n",
       "    </tr>\n",
       "    <tr>\n",
       "      <th>2</th>\n",
       "      <td>2020-01-30</td>\n",
       "      <td>16:00</td>\n",
       "      <td>Santa Catarina</td>\n",
       "      <td>0</td>\n",
       "      <td>2</td>\n",
       "      <td>0</td>\n",
       "      <td>0</td>\n",
       "    </tr>\n",
       "    <tr>\n",
       "      <th>3</th>\n",
       "      <td>2020-01-30</td>\n",
       "      <td>16:00</td>\n",
       "      <td>São Paulo</td>\n",
       "      <td>3</td>\n",
       "      <td>1</td>\n",
       "      <td>0</td>\n",
       "      <td>0</td>\n",
       "    </tr>\n",
       "    <tr>\n",
       "      <th>4</th>\n",
       "      <td>2020-01-30</td>\n",
       "      <td>16:00</td>\n",
       "      <td>Rio Grande do Sul</td>\n",
       "      <td>2</td>\n",
       "      <td>2</td>\n",
       "      <td>0</td>\n",
       "      <td>0</td>\n",
       "    </tr>\n",
       "  </tbody>\n",
       "</table>\n",
       "</div>"
      ],
      "text/plain": [
       "         date   hour              state  suspects  refuses  cases  deaths\n",
       "0  2020-01-30  16:00       Minas Gerais         1        0      0       0\n",
       "1  2020-01-30  16:00     Rio de Janeiro         1        0      0       0\n",
       "2  2020-01-30  16:00     Santa Catarina         0        2      0       0\n",
       "3  2020-01-30  16:00          São Paulo         3        1      0       0\n",
       "4  2020-01-30  16:00  Rio Grande do Sul         2        2      0       0"
      ]
     },
     "execution_count": 561,
     "metadata": {},
     "output_type": "execute_result"
    }
   ],
   "source": [
    "covid19_br_kaggle.head()"
   ]
  },
  {
   "cell_type": "code",
   "execution_count": 562,
   "metadata": {},
   "outputs": [],
   "source": [
    "columns_list = [\"suspects\", \"refuses\", \"cases\", \"deaths\"]\n",
    "covid19_br_kagle_brasil = groupby_location(covid19_br_kaggle, \"Brasil\", \"date\", \"state\", columns_list)\n",
    "covid19_br_kagle_sp = groupby_location(covid19_br_kaggle, \"Brasil\", \"date\", \"state\", columns_list, location = \"São Paulo\")\n",
    "\n",
    "covid19_br_kagle_brasil = correcting_types(covid19_br_kagle_brasil, \"date\", '%Y-%m-%d', columns_list)\n",
    "covid19_br_kagle_sp = correcting_types(covid19_br_kagle_sp, \"date\", '%Y-%m-%d', columns_list)"
   ]
  },
  {
   "cell_type": "code",
   "execution_count": 563,
   "metadata": {},
   "outputs": [
    {
     "name": "stdout",
     "output_type": "stream",
     "text": [
      "Faixa de data:\n",
      "Data mínima: 2020-01-30\n",
      "Data máxima: 2020-03-29\n",
      "\n",
      "Número de casos confirmados até data máxima:\n",
      "Brasil: 4266\n",
      "São Paulo: 1451\n"
     ]
    }
   ],
   "source": [
    "print(\"Faixa de data:\\nData mínima: {0}\\nData máxima: {1}\".format(min(covid19_br_kaggle['date']), max(covid19_br_kaggle['date'])))\n",
    "print(\"\\nNúmero de casos confirmados até data máxima:\\nBrasil: {0}\\nSão Paulo: {1}\".format(covid19_br_kaggle_brasil['cases'].tail(1).sum(), covid19_br_kaggle_sp['cases'].tail(1).sum()))"
   ]
  },
  {
   "cell_type": "code",
   "execution_count": 564,
   "metadata": {},
   "outputs": [],
   "source": [
    "covid19_brasil = pd.concat([covid19_br_kagle_brasil, covid19_br_kagle_sp], ignore_index=True)"
   ]
  },
  {
   "cell_type": "code",
   "execution_count": 565,
   "metadata": {},
   "outputs": [
    {
     "data": {
      "image/png": "[encoded data removed]",
      "text/plain": [
       "<Figure size 1440x540 with 1 Axes>"
      ]
     },
     "metadata": {},
     "output_type": "display_data"
    }
   ],
   "source": [
    "plt.figure(figsize=(20,7.5))\n",
    "ax = sns.lineplot(x=\"date\", y=\"cases\",\n",
    "                  hue=\"state\", markers=True, style = \"state\",\n",
    "                  dashes=False, data=covid19_brasil_sp)\n",
    "\n",
    "ax.yaxis.set_major_locator(ticker.MultipleLocator(500))\n",
    "ax.xaxis.set_major_locator(ticker.MultipleLocator(5))"
   ]
  },
  {
   "cell_type": "markdown",
   "metadata": {},
   "source": [
    "##### universidade_de_vicosa"
   ]
  },
  {
   "cell_type": "code",
   "execution_count": 566,
   "metadata": {},
   "outputs": [
    {
     "name": "stdout",
     "output_type": "stream",
     "text": [
      "<class 'pandas.core.frame.DataFrame'>\n",
      "RangeIndex: 2041 entries, 0 to 2040\n",
      "Data columns (total 7 columns):\n",
      " #   Column      Non-Null Count  Dtype \n",
      "---  ------      --------------  ----- \n",
      " 0   date        2041 non-null   object\n",
      " 1   country     2041 non-null   object\n",
      " 2   state       2041 non-null   object\n",
      " 3   city        2041 non-null   object\n",
      " 4   ibgeID      2041 non-null   int64 \n",
      " 5   newCases    2041 non-null   int64 \n",
      " 6   totalCases  2041 non-null   int64 \n",
      "dtypes: int64(3), object(4)\n",
      "memory usage: 111.7+ KB\n"
     ]
    }
   ],
   "source": [
    "covid19_br_vicosa_cites_times.info()"
   ]
  },
  {
   "cell_type": "code",
   "execution_count": 567,
   "metadata": {
    "scrolled": true
   },
   "outputs": [
    {
     "data": {
      "text/html": [
       "<div>\n",
       "<style scoped>\n",
       "    .dataframe tbody tr th:only-of-type {\n",
       "        vertical-align: middle;\n",
       "    }\n",
       "\n",
       "    .dataframe tbody tr th {\n",
       "        vertical-align: top;\n",
       "    }\n",
       "\n",
       "    .dataframe thead th {\n",
       "        text-align: right;\n",
       "    }\n",
       "</style>\n",
       "<table border=\"1\" class=\"dataframe\">\n",
       "  <thead>\n",
       "    <tr style=\"text-align: right;\">\n",
       "      <th></th>\n",
       "      <th>date</th>\n",
       "      <th>country</th>\n",
       "      <th>state</th>\n",
       "      <th>city</th>\n",
       "      <th>ibgeID</th>\n",
       "      <th>newCases</th>\n",
       "      <th>totalCases</th>\n",
       "    </tr>\n",
       "  </thead>\n",
       "  <tbody>\n",
       "    <tr>\n",
       "      <th>0</th>\n",
       "      <td>2020-02-25</td>\n",
       "      <td>Brazil</td>\n",
       "      <td>SP</td>\n",
       "      <td>São Paulo/SP</td>\n",
       "      <td>3550308</td>\n",
       "      <td>1</td>\n",
       "      <td>1</td>\n",
       "    </tr>\n",
       "    <tr>\n",
       "      <th>1</th>\n",
       "      <td>2020-02-25</td>\n",
       "      <td>Brazil</td>\n",
       "      <td>TOTAL</td>\n",
       "      <td>TOTAL</td>\n",
       "      <td>3550308</td>\n",
       "      <td>1</td>\n",
       "      <td>1</td>\n",
       "    </tr>\n",
       "    <tr>\n",
       "      <th>2</th>\n",
       "      <td>2020-02-29</td>\n",
       "      <td>Brazil</td>\n",
       "      <td>SP</td>\n",
       "      <td>São Paulo/SP</td>\n",
       "      <td>3550308</td>\n",
       "      <td>1</td>\n",
       "      <td>2</td>\n",
       "    </tr>\n",
       "    <tr>\n",
       "      <th>3</th>\n",
       "      <td>2020-02-29</td>\n",
       "      <td>Brazil</td>\n",
       "      <td>TOTAL</td>\n",
       "      <td>TOTAL</td>\n",
       "      <td>3550308</td>\n",
       "      <td>1</td>\n",
       "      <td>2</td>\n",
       "    </tr>\n",
       "    <tr>\n",
       "      <th>4</th>\n",
       "      <td>2020-03-04</td>\n",
       "      <td>Brazil</td>\n",
       "      <td>SP</td>\n",
       "      <td>São Paulo/SP</td>\n",
       "      <td>3550308</td>\n",
       "      <td>1</td>\n",
       "      <td>3</td>\n",
       "    </tr>\n",
       "  </tbody>\n",
       "</table>\n",
       "</div>"
      ],
      "text/plain": [
       "         date country  state          city   ibgeID  newCases  totalCases\n",
       "0  2020-02-25  Brazil     SP  São Paulo/SP  3550308         1           1\n",
       "1  2020-02-25  Brazil  TOTAL         TOTAL  3550308         1           1\n",
       "2  2020-02-29  Brazil     SP  São Paulo/SP  3550308         1           2\n",
       "3  2020-02-29  Brazil  TOTAL         TOTAL  3550308         1           2\n",
       "4  2020-03-04  Brazil     SP  São Paulo/SP  3550308         1           3"
      ]
     },
     "execution_count": 567,
     "metadata": {},
     "output_type": "execute_result"
    }
   ],
   "source": [
    "covid19_br_vicosa_cites_times.head(5)"
   ]
  },
  {
   "cell_type": "code",
   "execution_count": 568,
   "metadata": {},
   "outputs": [],
   "source": [
    "columns_list = [\"newCases\", \"totalCases\"]\n",
    "covid19_br_vicosa_sp = groupby_location(covid19_br_vicosa_cites_times, \"Brasil\", \"date\", \"city\", columns_list, location = \"São Paulo/SP\")\n",
    "covid19_br_vicosa_sp = correcting_types(covid19_br_vicosa_sp, \"date\", '%Y-%m-%d', columns_list)"
   ]
  },
  {
   "cell_type": "code",
   "execution_count": 569,
   "metadata": {},
   "outputs": [
    {
     "name": "stdout",
     "output_type": "stream",
     "text": [
      "Faixa de data:\n",
      "Data mínima: 2020-02-25\n",
      "Data máxima: 2020-03-29\n",
      "\n",
      "Número de casos confirmados até data máxima:\n",
      "São Paulo: 1183.0\n"
     ]
    }
   ],
   "source": [
    "print(\"Faixa de data:\\nData mínima: {0}\\nData máxima: {1}\".format(min(covid19_br_vicosa_cites_times['date']), max(covid19_br_vicosa_cites_times['date'])))\n",
    "print(\"\\nNúmero de casos confirmados até data máxima:\\nSão Paulo: {0}\".format(covid19_br_vicosa_sp['totalCases'].tail(1).sum()))"
   ]
  },
  {
   "cell_type": "code",
   "execution_count": 570,
   "metadata": {},
   "outputs": [],
   "source": [
    "## join\n",
    "covid19_br_vicosa_sp['cases'] = covid19_br_vicosa_sp['totalCases']\n",
    "covid19_br_vicosa_sp = covid19_br_vicosa_sp[['date','location','cases']]\n",
    "covid19_brasil = covid19_brasil[['date','location','cases']]\n",
    "covid19_brasil = pd.concat([covid19_brasil, covid19_br_vicosa_sp], ignore_index=True)"
   ]
  },
  {
   "cell_type": "markdown",
   "metadata": {},
   "source": [
    "#### bases nagano"
   ]
  },
  {
   "cell_type": "code",
   "execution_count": 571,
   "metadata": {},
   "outputs": [
    {
     "data": {
      "text/html": [
       "<div>\n",
       "<style scoped>\n",
       "    .dataframe tbody tr th:only-of-type {\n",
       "        vertical-align: middle;\n",
       "    }\n",
       "\n",
       "    .dataframe tbody tr th {\n",
       "        vertical-align: top;\n",
       "    }\n",
       "\n",
       "    .dataframe thead th {\n",
       "        text-align: right;\n",
       "    }\n",
       "</style>\n",
       "<table border=\"1\" class=\"dataframe\">\n",
       "  <thead>\n",
       "    <tr style=\"text-align: right;\">\n",
       "      <th></th>\n",
       "      <th>data</th>\n",
       "      <th>municipio</th>\n",
       "      <th>uf</th>\n",
       "      <th>casos confirmados</th>\n",
       "      <th>mortes</th>\n",
       "      <th>fonte</th>\n",
       "    </tr>\n",
       "  </thead>\n",
       "  <tbody>\n",
       "    <tr>\n",
       "      <th>0</th>\n",
       "      <td>26/02/2020</td>\n",
       "      <td>São Paulo</td>\n",
       "      <td>SP</td>\n",
       "      <td>1</td>\n",
       "      <td>NaN</td>\n",
       "      <td>NaN</td>\n",
       "    </tr>\n",
       "    <tr>\n",
       "      <th>1</th>\n",
       "      <td>27/02/2020</td>\n",
       "      <td>São Paulo</td>\n",
       "      <td>SP</td>\n",
       "      <td>1</td>\n",
       "      <td>NaN</td>\n",
       "      <td>NaN</td>\n",
       "    </tr>\n",
       "    <tr>\n",
       "      <th>2</th>\n",
       "      <td>28/02/2020</td>\n",
       "      <td>São Paulo</td>\n",
       "      <td>SP</td>\n",
       "      <td>1</td>\n",
       "      <td>NaN</td>\n",
       "      <td>NaN</td>\n",
       "    </tr>\n",
       "    <tr>\n",
       "      <th>3</th>\n",
       "      <td>29/02/2020</td>\n",
       "      <td>São Paulo</td>\n",
       "      <td>SP</td>\n",
       "      <td>2</td>\n",
       "      <td>NaN</td>\n",
       "      <td>NaN</td>\n",
       "    </tr>\n",
       "    <tr>\n",
       "      <th>4</th>\n",
       "      <td>01/03/2020</td>\n",
       "      <td>São Paulo</td>\n",
       "      <td>SP</td>\n",
       "      <td>2</td>\n",
       "      <td>NaN</td>\n",
       "      <td>NaN</td>\n",
       "    </tr>\n",
       "  </tbody>\n",
       "</table>\n",
       "</div>"
      ],
      "text/plain": [
       "         data  municipio  uf  casos confirmados  mortes fonte\n",
       "0  26/02/2020  São Paulo  SP                  1     NaN   NaN\n",
       "1  27/02/2020  São Paulo  SP                  1     NaN   NaN\n",
       "2  28/02/2020  São Paulo  SP                  1     NaN   NaN\n",
       "3  29/02/2020  São Paulo  SP                  2     NaN   NaN\n",
       "4  01/03/2020  São Paulo  SP                  2     NaN   NaN"
      ]
     },
     "execution_count": 571,
     "metadata": {},
     "output_type": "execute_result"
    }
   ],
   "source": [
    "covid19_br_nagano.head()"
   ]
  },
  {
   "cell_type": "code",
   "execution_count": 572,
   "metadata": {},
   "outputs": [],
   "source": [
    "columns_list = [\"casos confirmados\"]\n",
    "covid19_br_nagano_sp = groupby_location(covid19_br_nagano, \"Brasil\", \"data\", \"municipio\", columns_list, location = \"São Paulo\")\n",
    "covid19_br_nagano_sp = correcting_types(covid19_br_nagano_sp, \"data\", '%d/%m/%Y', columns_list)\n",
    "covid19_br_nagano_sp['location'] = \"São Paulo/SP - Nagano\"\n",
    "covid19_br_nagano_sp.rename(columns={'data':'date', 'casos confirmados':'cases'}, inplace=True)"
   ]
  },
  {
   "cell_type": "code",
   "execution_count": 573,
   "metadata": {},
   "outputs": [
    {
     "name": "stdout",
     "output_type": "stream",
     "text": [
      "Faixa de data:\n",
      "Data mínima: 2020-02-26 00:00:00\n",
      "Data máxima: 2020-03-29 00:00:00\n",
      "\n",
      "Número de casos confirmados até data máxima:\n",
      "Brasil: 1272.0\n",
      "São Paulo: 1272.0\n"
     ]
    }
   ],
   "source": [
    "print(\"Faixa de data:\\nData mínima: {0}\\nData máxima: {1}\".format(min(covid19_br_nagano_sp['date']), max(covid19_br_nagano_sp['date'])))\n",
    "print(\"\\nNúmero de casos confirmados até data máxima:\\nBrasil: {0}\\nSão Paulo: {1}\".format(covid19_br_nagano_sp['cases'].tail(1).sum(), covid19_br_nagano_sp['cases'].tail(1).sum()))"
   ]
  },
  {
   "cell_type": "code",
   "execution_count": 574,
   "metadata": {},
   "outputs": [],
   "source": [
    "covid19_brasil = pd.concat([covid19_brasil, covid19_br_nagano_sp], ignore_index=True)"
   ]
  },
  {
   "cell_type": "code",
   "execution_count": 575,
   "metadata": {},
   "outputs": [
    {
     "data": {
      "image/png": "[encoded data removed]",
      "text/plain": [
       "<Figure size 1440x540 with 1 Axes>"
      ]
     },
     "metadata": {},
     "output_type": "display_data"
    }
   ],
   "source": [
    "plt.figure(figsize=(20,7.5))\n",
    "ax = sns.lineplot(x=\"date\", y=\"cases\",\n",
    "                  hue=\"location\", markers=True, style = \"location\",\n",
    "                  dashes=False, data=covid19_brasil)\n",
    "\n",
    "ax.yaxis.set_major_locator(ticker.MultipleLocator(500))\n",
    "ax.xaxis.set_major_locator(ticker.MultipleLocator(5))"
   ]
  },
  {
   "cell_type": "markdown",
   "metadata": {},
   "source": [
    "## Ajuste log-linear"
   ]
  },
  {
   "cell_type": "code",
   "execution_count": 587,
   "metadata": {},
   "outputs": [],
   "source": [
    "covid19_brasil[\"log_cases\"] = np.log(covid19_brasil[\"cases\"])"
   ]
  },
  {
   "cell_type": "code",
   "execution_count": 588,
   "metadata": {},
   "outputs": [],
   "source": [
    "sp_city_df = covid19_brasil[covid19_brasil['location'] == 'São Paulo/SP']\n",
    "sp_city_nangano = covid19_brasil[covid19_brasil['location'] == 'São Paulo/SP - Nagano']\n",
    "sp_state_df = covid19_brasil[covid19_brasil['location'] == 'São Paulo']\n",
    "brasil_df = covid19_brasil[covid19_brasil['location'] == 'Brasil']"
   ]
  },
  {
   "cell_type": "code",
   "execution_count": 589,
   "metadata": {},
   "outputs": [
    {
     "data": {
      "text/plain": [
       "(737480.0, 737516.0)"
      ]
     },
     "execution_count": 589,
     "metadata": {},
     "output_type": "execute_result"
    },
    {
     "data": {
      "image/png": "[encoded data removed]",
      "text/plain": [
       "<Figure size 1440x540 with 1 Axes>"
      ]
     },
     "metadata": {},
     "output_type": "display_data"
    }
   ],
   "source": [
    "plt.figure(figsize=(20,7.5))\n",
    "ax = sns.scatterplot(x=\"date\", y=\"log_cases\",\n",
    "                     hue=\"location\", markers=True, data=covid19_brasil)\n",
    "\n",
    "\n",
    "# control x and y limits\n",
    "ax.set_xlim(min(covid19_brasil[covid19_brasil[\"cases\"]>=1]['date']),datetime.strptime(\"2020-04-01\", '%Y-%m-%d'))"
   ]
  },
  {
   "cell_type": "code",
   "execution_count": 590,
   "metadata": {},
   "outputs": [],
   "source": [
    "sp_city_predictions = date_linear_predict(sp_city_df, \"date\", \"cases\", \"location\", \"2020-04-05\", \"date_index\")\n",
    "sp_state_df_predictions = date_linear_predict(sp_state_df, \"date\", \"cases\", \"location\", \"2020-04-05\", \"date_index\")\n",
    "brasil_df_predictions = date_linear_predict(brasil_df, \"date\", \"cases\", \"location\", \"2020-04-05\", \"date_index\")"
   ]
  },
  {
   "cell_type": "code",
   "execution_count": 594,
   "metadata": {},
   "outputs": [
    {
     "data": {
      "image/png": "[encoded data removed]",
      "text/plain": [
       "<Figure size 1440x720 with 1 Axes>"
      ]
     },
     "metadata": {},
     "output_type": "display_data"
    }
   ],
   "source": [
    "plt.figure(figsize=(20,10))\n",
    "ax = sns.scatterplot(x=\"date\", y=\"log_cases\",\n",
    "                     hue=\"location\", markers=True, data=covid19_brasil[covid19_brasil['location'].isin([\"Brasil\",\"São Paulo/SP\"])])\n",
    "\n",
    "# control x and y limits\n",
    "ax.set_xlim(datetime.strptime(\"2020-02-24\", '%Y-%m-%d'),datetime.strptime(\"2020-04-06\", '%Y-%m-%d'))\n",
    "ax.yaxis.set_major_locator(ticker.MultipleLocator(1))\n",
    "ax.xaxis.set_major_locator(ticker.MultipleLocator(5))\n",
    "\n",
    "plt.plot(sp_city_predictions['date'], sp_city_predictions['date_predict'], color='r')\n",
    "plt.plot(brasil_df_predictions['date'], brasil_df_predictions['date_predict'], color='b')\n",
    "plt.show()"
   ]
  },
  {
   "cell_type": "code",
   "execution_count": 467,
   "metadata": {},
   "outputs": [
    {
     "data": {
      "image/png": "[encoded data removed]",
      "text/plain": [
       "<Figure size 1440x540 with 1 Axes>"
      ]
     },
     "metadata": {},
     "output_type": "display_data"
    }
   ],
   "source": [
    "plt.figure(figsize=(20,7.5))\n",
    "ax = sns.lineplot(x=\"date\", y=\"date_predict\",\n",
    "                  hue=\"location\", markers=True, style = \"location\",\n",
    "                  dashes=False, data=sp_city_predictions)\n",
    "\n",
    "plt.plot()\n",
    "\n",
    "# ax.yaxis.set_major_locator(ticker.MultipleLocator(500))\n",
    "# ax.xaxis.set_major_locator(ticker.MultipleLocator(5))"
   ]
  },
  {
   "cell_type": "markdown",
   "metadata": {},
   "source": [
    "## análise de sexta feira"
   ]
  },
  {
   "cell_type": "code",
   "execution_count": null,
   "metadata": {},
   "outputs": [],
   "source": [
    "calendar = create_date_table(start, end)"
   ]
  },
  {
   "cell_type": "code",
   "execution_count": 323,
   "metadata": {},
   "outputs": [],
   "source": [
    "def date_interpolation_cum_sum(df, date_column, location):\n",
    "    max_date = max(df['date'].astype(\"string\"))\n",
    "    min_date = min(df['date'].astype(\"string\"))\n",
    "    calendar = create_date_table(min_date,max_date)\n",
    "    calendar = calendar.merge(df, how = \"left\", left_on = 'calendar_date', right_on = date_column)\n",
    "    \n",
    "    calendar = calendar.drop(columns = ['date'])\n",
    "    calendar.rename(columns={'calendar_date':'date'}, inplace=True)\n",
    "    calendar['state'] = location\n",
    "    \n",
    "#     calendar = calendar['cases'].cumsum()\n",
    "    \n",
    "    return calendar"
   ]
  },
  {
   "cell_type": "code",
   "execution_count": 324,
   "metadata": {},
   "outputs": [
    {
     "data": {
      "text/html": [
       "<div>\n",
       "<style scoped>\n",
       "    .dataframe tbody tr th:only-of-type {\n",
       "        vertical-align: middle;\n",
       "    }\n",
       "\n",
       "    .dataframe tbody tr th {\n",
       "        vertical-align: top;\n",
       "    }\n",
       "\n",
       "    .dataframe thead th {\n",
       "        text-align: right;\n",
       "    }\n",
       "</style>\n",
       "<table border=\"1\" class=\"dataframe\">\n",
       "  <thead>\n",
       "    <tr style=\"text-align: right;\">\n",
       "      <th></th>\n",
       "      <th>date</th>\n",
       "      <th>state</th>\n",
       "      <th>cases</th>\n",
       "      <th>log</th>\n",
       "      <th>reg</th>\n",
       "    </tr>\n",
       "  </thead>\n",
       "  <tbody>\n",
       "    <tr>\n",
       "      <th>0</th>\n",
       "      <td>2020-02-25</td>\n",
       "      <td>São Paulo - capital</td>\n",
       "      <td>1.0</td>\n",
       "      <td>0.000000</td>\n",
       "      <td>0.908424</td>\n",
       "    </tr>\n",
       "    <tr>\n",
       "      <th>1</th>\n",
       "      <td>2020-02-26</td>\n",
       "      <td>São Paulo - capital</td>\n",
       "      <td>NaN</td>\n",
       "      <td>NaN</td>\n",
       "      <td>NaN</td>\n",
       "    </tr>\n",
       "    <tr>\n",
       "      <th>2</th>\n",
       "      <td>2020-02-27</td>\n",
       "      <td>São Paulo - capital</td>\n",
       "      <td>NaN</td>\n",
       "      <td>NaN</td>\n",
       "      <td>NaN</td>\n",
       "    </tr>\n",
       "    <tr>\n",
       "      <th>3</th>\n",
       "      <td>2020-02-28</td>\n",
       "      <td>São Paulo - capital</td>\n",
       "      <td>NaN</td>\n",
       "      <td>NaN</td>\n",
       "      <td>NaN</td>\n",
       "    </tr>\n",
       "    <tr>\n",
       "      <th>4</th>\n",
       "      <td>2020-02-29</td>\n",
       "      <td>São Paulo - capital</td>\n",
       "      <td>2.0</td>\n",
       "      <td>0.693147</td>\n",
       "      <td>1.178225</td>\n",
       "    </tr>\n",
       "    <tr>\n",
       "      <th>5</th>\n",
       "      <td>2020-03-01</td>\n",
       "      <td>São Paulo - capital</td>\n",
       "      <td>NaN</td>\n",
       "      <td>NaN</td>\n",
       "      <td>NaN</td>\n",
       "    </tr>\n",
       "    <tr>\n",
       "      <th>6</th>\n",
       "      <td>2020-03-02</td>\n",
       "      <td>São Paulo - capital</td>\n",
       "      <td>NaN</td>\n",
       "      <td>NaN</td>\n",
       "      <td>NaN</td>\n",
       "    </tr>\n",
       "    <tr>\n",
       "      <th>7</th>\n",
       "      <td>2020-03-03</td>\n",
       "      <td>São Paulo - capital</td>\n",
       "      <td>NaN</td>\n",
       "      <td>NaN</td>\n",
       "      <td>NaN</td>\n",
       "    </tr>\n",
       "    <tr>\n",
       "      <th>8</th>\n",
       "      <td>2020-03-04</td>\n",
       "      <td>São Paulo - capital</td>\n",
       "      <td>3.0</td>\n",
       "      <td>1.098612</td>\n",
       "      <td>1.448026</td>\n",
       "    </tr>\n",
       "    <tr>\n",
       "      <th>9</th>\n",
       "      <td>2020-03-05</td>\n",
       "      <td>São Paulo - capital</td>\n",
       "      <td>6.0</td>\n",
       "      <td>1.791759</td>\n",
       "      <td>1.717827</td>\n",
       "    </tr>\n",
       "    <tr>\n",
       "      <th>10</th>\n",
       "      <td>2020-03-06</td>\n",
       "      <td>São Paulo - capital</td>\n",
       "      <td>10.0</td>\n",
       "      <td>2.302585</td>\n",
       "      <td>1.987628</td>\n",
       "    </tr>\n",
       "    <tr>\n",
       "      <th>11</th>\n",
       "      <td>2020-03-07</td>\n",
       "      <td>São Paulo - capital</td>\n",
       "      <td>13.0</td>\n",
       "      <td>2.564949</td>\n",
       "      <td>2.257429</td>\n",
       "    </tr>\n",
       "    <tr>\n",
       "      <th>12</th>\n",
       "      <td>2020-03-08</td>\n",
       "      <td>São Paulo - capital</td>\n",
       "      <td>15.0</td>\n",
       "      <td>2.708050</td>\n",
       "      <td>2.527230</td>\n",
       "    </tr>\n",
       "    <tr>\n",
       "      <th>13</th>\n",
       "      <td>2020-03-09</td>\n",
       "      <td>São Paulo - capital</td>\n",
       "      <td>15.0</td>\n",
       "      <td>2.708050</td>\n",
       "      <td>2.797031</td>\n",
       "    </tr>\n",
       "    <tr>\n",
       "      <th>14</th>\n",
       "      <td>2020-03-10</td>\n",
       "      <td>São Paulo - capital</td>\n",
       "      <td>18.0</td>\n",
       "      <td>2.890372</td>\n",
       "      <td>3.066832</td>\n",
       "    </tr>\n",
       "    <tr>\n",
       "      <th>15</th>\n",
       "      <td>2020-03-11</td>\n",
       "      <td>São Paulo - capital</td>\n",
       "      <td>44.0</td>\n",
       "      <td>3.784190</td>\n",
       "      <td>3.336633</td>\n",
       "    </tr>\n",
       "    <tr>\n",
       "      <th>16</th>\n",
       "      <td>2020-03-12</td>\n",
       "      <td>São Paulo - capital</td>\n",
       "      <td>62.0</td>\n",
       "      <td>4.127134</td>\n",
       "      <td>3.606434</td>\n",
       "    </tr>\n",
       "    <tr>\n",
       "      <th>17</th>\n",
       "      <td>2020-03-13</td>\n",
       "      <td>São Paulo - capital</td>\n",
       "      <td>62.0</td>\n",
       "      <td>4.127134</td>\n",
       "      <td>3.876235</td>\n",
       "    </tr>\n",
       "    <tr>\n",
       "      <th>18</th>\n",
       "      <td>2020-03-14</td>\n",
       "      <td>São Paulo - capital</td>\n",
       "      <td>62.0</td>\n",
       "      <td>4.127134</td>\n",
       "      <td>4.146036</td>\n",
       "    </tr>\n",
       "    <tr>\n",
       "      <th>19</th>\n",
       "      <td>2020-03-15</td>\n",
       "      <td>São Paulo - capital</td>\n",
       "      <td>131.0</td>\n",
       "      <td>4.875197</td>\n",
       "      <td>4.415837</td>\n",
       "    </tr>\n",
       "    <tr>\n",
       "      <th>20</th>\n",
       "      <td>2020-03-16</td>\n",
       "      <td>São Paulo - capital</td>\n",
       "      <td>145.0</td>\n",
       "      <td>4.976734</td>\n",
       "      <td>4.685638</td>\n",
       "    </tr>\n",
       "    <tr>\n",
       "      <th>21</th>\n",
       "      <td>2020-03-17</td>\n",
       "      <td>São Paulo - capital</td>\n",
       "      <td>156.0</td>\n",
       "      <td>5.049856</td>\n",
       "      <td>4.955439</td>\n",
       "    </tr>\n",
       "    <tr>\n",
       "      <th>22</th>\n",
       "      <td>2020-03-18</td>\n",
       "      <td>São Paulo - capital</td>\n",
       "      <td>228.0</td>\n",
       "      <td>5.429346</td>\n",
       "      <td>5.225240</td>\n",
       "    </tr>\n",
       "    <tr>\n",
       "      <th>23</th>\n",
       "      <td>2020-03-19</td>\n",
       "      <td>São Paulo - capital</td>\n",
       "      <td>267.0</td>\n",
       "      <td>5.587249</td>\n",
       "      <td>5.495041</td>\n",
       "    </tr>\n",
       "    <tr>\n",
       "      <th>24</th>\n",
       "      <td>2020-03-20</td>\n",
       "      <td>São Paulo - capital</td>\n",
       "      <td>366.0</td>\n",
       "      <td>5.902633</td>\n",
       "      <td>5.764842</td>\n",
       "    </tr>\n",
       "    <tr>\n",
       "      <th>25</th>\n",
       "      <td>2020-03-21</td>\n",
       "      <td>São Paulo - capital</td>\n",
       "      <td>418.0</td>\n",
       "      <td>6.035481</td>\n",
       "      <td>6.034643</td>\n",
       "    </tr>\n",
       "    <tr>\n",
       "      <th>26</th>\n",
       "      <td>2020-03-22</td>\n",
       "      <td>São Paulo - capital</td>\n",
       "      <td>583.0</td>\n",
       "      <td>6.368187</td>\n",
       "      <td>6.304444</td>\n",
       "    </tr>\n",
       "    <tr>\n",
       "      <th>27</th>\n",
       "      <td>2020-03-23</td>\n",
       "      <td>São Paulo - capital</td>\n",
       "      <td>687.0</td>\n",
       "      <td>6.532334</td>\n",
       "      <td>6.574245</td>\n",
       "    </tr>\n",
       "    <tr>\n",
       "      <th>28</th>\n",
       "      <td>2020-03-24</td>\n",
       "      <td>São Paulo - capital</td>\n",
       "      <td>717.0</td>\n",
       "      <td>6.575076</td>\n",
       "      <td>6.844047</td>\n",
       "    </tr>\n",
       "    <tr>\n",
       "      <th>29</th>\n",
       "      <td>2020-03-25</td>\n",
       "      <td>São Paulo - capital</td>\n",
       "      <td>731.0</td>\n",
       "      <td>6.594413</td>\n",
       "      <td>7.113848</td>\n",
       "    </tr>\n",
       "    <tr>\n",
       "      <th>30</th>\n",
       "      <td>2020-03-26</td>\n",
       "      <td>São Paulo - capital</td>\n",
       "      <td>NaN</td>\n",
       "      <td>NaN</td>\n",
       "      <td>NaN</td>\n",
       "    </tr>\n",
       "    <tr>\n",
       "      <th>31</th>\n",
       "      <td>2020-03-27</td>\n",
       "      <td>São Paulo - capital</td>\n",
       "      <td>899.0</td>\n",
       "      <td>6.801283</td>\n",
       "      <td>7.383649</td>\n",
       "    </tr>\n",
       "  </tbody>\n",
       "</table>\n",
       "</div>"
      ],
      "text/plain": [
       "         date                state  cases       log       reg\n",
       "0  2020-02-25  São Paulo - capital    1.0  0.000000  0.908424\n",
       "1  2020-02-26  São Paulo - capital    NaN       NaN       NaN\n",
       "2  2020-02-27  São Paulo - capital    NaN       NaN       NaN\n",
       "3  2020-02-28  São Paulo - capital    NaN       NaN       NaN\n",
       "4  2020-02-29  São Paulo - capital    2.0  0.693147  1.178225\n",
       "5  2020-03-01  São Paulo - capital    NaN       NaN       NaN\n",
       "6  2020-03-02  São Paulo - capital    NaN       NaN       NaN\n",
       "7  2020-03-03  São Paulo - capital    NaN       NaN       NaN\n",
       "8  2020-03-04  São Paulo - capital    3.0  1.098612  1.448026\n",
       "9  2020-03-05  São Paulo - capital    6.0  1.791759  1.717827\n",
       "10 2020-03-06  São Paulo - capital   10.0  2.302585  1.987628\n",
       "11 2020-03-07  São Paulo - capital   13.0  2.564949  2.257429\n",
       "12 2020-03-08  São Paulo - capital   15.0  2.708050  2.527230\n",
       "13 2020-03-09  São Paulo - capital   15.0  2.708050  2.797031\n",
       "14 2020-03-10  São Paulo - capital   18.0  2.890372  3.066832\n",
       "15 2020-03-11  São Paulo - capital   44.0  3.784190  3.336633\n",
       "16 2020-03-12  São Paulo - capital   62.0  4.127134  3.606434\n",
       "17 2020-03-13  São Paulo - capital   62.0  4.127134  3.876235\n",
       "18 2020-03-14  São Paulo - capital   62.0  4.127134  4.146036\n",
       "19 2020-03-15  São Paulo - capital  131.0  4.875197  4.415837\n",
       "20 2020-03-16  São Paulo - capital  145.0  4.976734  4.685638\n",
       "21 2020-03-17  São Paulo - capital  156.0  5.049856  4.955439\n",
       "22 2020-03-18  São Paulo - capital  228.0  5.429346  5.225240\n",
       "23 2020-03-19  São Paulo - capital  267.0  5.587249  5.495041\n",
       "24 2020-03-20  São Paulo - capital  366.0  5.902633  5.764842\n",
       "25 2020-03-21  São Paulo - capital  418.0  6.035481  6.034643\n",
       "26 2020-03-22  São Paulo - capital  583.0  6.368187  6.304444\n",
       "27 2020-03-23  São Paulo - capital  687.0  6.532334  6.574245\n",
       "28 2020-03-24  São Paulo - capital  717.0  6.575076  6.844047\n",
       "29 2020-03-25  São Paulo - capital  731.0  6.594413  7.113848\n",
       "30 2020-03-26  São Paulo - capital    NaN       NaN       NaN\n",
       "31 2020-03-27  São Paulo - capital  899.0  6.801283  7.383649"
      ]
     },
     "execution_count": 324,
     "metadata": {},
     "output_type": "execute_result"
    }
   ],
   "source": [
    "date_interpolation_cum_sum(test, 'date', \"São Paulo - capital\")"
   ]
  },
  {
   "cell_type": "code",
   "execution_count": 293,
   "metadata": {},
   "outputs": [],
   "source": [
    "max_date = max(test['date'].astype(\"string\"))"
   ]
  },
  {
   "cell_type": "code",
   "execution_count": 280,
   "metadata": {},
   "outputs": [],
   "source": [
    "def linear_log_adjust(dataframe, cases_column):\n",
    "    dataframe = dataframe[dataframe[cases_column] >= 1]\n",
    "    dataframe = dataframe.reset_index()    \n",
    "    a, b = np.polyfit(dataframe[\"index\"], np.log(dataframe[cases_column]), 1)\n",
    "    dataframe['reg'] = dataframe[\"index\"].apply(lambda x: a*x + b)\n",
    "    dataframe = dataframe.drop(columns = ['index'])\n",
    "    \n",
    "    return dataframe"
   ]
  },
  {
   "cell_type": "code",
   "execution_count": 299,
   "metadata": {},
   "outputs": [],
   "source": [
    "test = linear_log_adjust(sp_city_df, \"cases\")"
   ]
  },
  {
   "cell_type": "code",
   "execution_count": 300,
   "metadata": {},
   "outputs": [
    {
     "data": {
      "text/html": [
       "<div>\n",
       "<style scoped>\n",
       "    .dataframe tbody tr th:only-of-type {\n",
       "        vertical-align: middle;\n",
       "    }\n",
       "\n",
       "    .dataframe tbody tr th {\n",
       "        vertical-align: top;\n",
       "    }\n",
       "\n",
       "    .dataframe thead th {\n",
       "        text-align: right;\n",
       "    }\n",
       "</style>\n",
       "<table border=\"1\" class=\"dataframe\">\n",
       "  <thead>\n",
       "    <tr style=\"text-align: right;\">\n",
       "      <th></th>\n",
       "      <th>date</th>\n",
       "      <th>state</th>\n",
       "      <th>cases</th>\n",
       "      <th>log</th>\n",
       "      <th>reg</th>\n",
       "    </tr>\n",
       "  </thead>\n",
       "  <tbody>\n",
       "    <tr>\n",
       "      <th>0</th>\n",
       "      <td>2020-02-25</td>\n",
       "      <td>São Paulo - capital</td>\n",
       "      <td>1</td>\n",
       "      <td>0.000000</td>\n",
       "      <td>0.908424</td>\n",
       "    </tr>\n",
       "    <tr>\n",
       "      <th>1</th>\n",
       "      <td>2020-02-29</td>\n",
       "      <td>São Paulo - capital</td>\n",
       "      <td>2</td>\n",
       "      <td>0.693147</td>\n",
       "      <td>1.178225</td>\n",
       "    </tr>\n",
       "    <tr>\n",
       "      <th>2</th>\n",
       "      <td>2020-03-04</td>\n",
       "      <td>São Paulo - capital</td>\n",
       "      <td>3</td>\n",
       "      <td>1.098612</td>\n",
       "      <td>1.448026</td>\n",
       "    </tr>\n",
       "    <tr>\n",
       "      <th>3</th>\n",
       "      <td>2020-03-05</td>\n",
       "      <td>São Paulo - capital</td>\n",
       "      <td>6</td>\n",
       "      <td>1.791759</td>\n",
       "      <td>1.717827</td>\n",
       "    </tr>\n",
       "    <tr>\n",
       "      <th>4</th>\n",
       "      <td>2020-03-06</td>\n",
       "      <td>São Paulo - capital</td>\n",
       "      <td>10</td>\n",
       "      <td>2.302585</td>\n",
       "      <td>1.987628</td>\n",
       "    </tr>\n",
       "  </tbody>\n",
       "</table>\n",
       "</div>"
      ],
      "text/plain": [
       "        date                state  cases       log       reg\n",
       "0 2020-02-25  São Paulo - capital      1  0.000000  0.908424\n",
       "1 2020-02-29  São Paulo - capital      2  0.693147  1.178225\n",
       "2 2020-03-04  São Paulo - capital      3  1.098612  1.448026\n",
       "3 2020-03-05  São Paulo - capital      6  1.791759  1.717827\n",
       "4 2020-03-06  São Paulo - capital     10  2.302585  1.987628"
      ]
     },
     "execution_count": 300,
     "metadata": {},
     "output_type": "execute_result"
    }
   ],
   "source": [
    "test.head()"
   ]
  },
  {
   "cell_type": "code",
   "execution_count": 283,
   "metadata": {},
   "outputs": [
    {
     "data": {
      "image/png": "[encoded data removed]",
      "text/plain": [
       "<Figure size 1440x540 with 1 Axes>"
      ]
     },
     "metadata": {},
     "output_type": "display_data"
    }
   ],
   "source": [
    "plt.figure(figsize=(20,7.5))\n",
    "ax = sns.lineplot(x=\"date\", y=\"reg\",\n",
    "                  hue=\"state\", markers=True, style = \"state\",\n",
    "                  dashes=False, data=test)\n",
    "\n",
    "ax.yaxis.set_major_locator(ticker.MultipleLocator(500))\n",
    "ax.xaxis.set_major_locator(ticker.MultipleLocator(5))"
   ]
  },
  {
   "cell_type": "code",
   "execution_count": 282,
   "metadata": {},
   "outputs": [
    {
     "data": {
      "text/html": [
       "<div>\n",
       "<style scoped>\n",
       "    .dataframe tbody tr th:only-of-type {\n",
       "        vertical-align: middle;\n",
       "    }\n",
       "\n",
       "    .dataframe tbody tr th {\n",
       "        vertical-align: top;\n",
       "    }\n",
       "\n",
       "    .dataframe thead th {\n",
       "        text-align: right;\n",
       "    }\n",
       "</style>\n",
       "<table border=\"1\" class=\"dataframe\">\n",
       "  <thead>\n",
       "    <tr style=\"text-align: right;\">\n",
       "      <th></th>\n",
       "      <th>date</th>\n",
       "      <th>state</th>\n",
       "      <th>cases</th>\n",
       "      <th>log</th>\n",
       "      <th>reg</th>\n",
       "    </tr>\n",
       "  </thead>\n",
       "  <tbody>\n",
       "    <tr>\n",
       "      <th>0</th>\n",
       "      <td>2020-02-25</td>\n",
       "      <td>São Paulo - capital</td>\n",
       "      <td>1</td>\n",
       "      <td>0.000000</td>\n",
       "      <td>0.908424</td>\n",
       "    </tr>\n",
       "    <tr>\n",
       "      <th>1</th>\n",
       "      <td>2020-02-29</td>\n",
       "      <td>São Paulo - capital</td>\n",
       "      <td>2</td>\n",
       "      <td>0.693147</td>\n",
       "      <td>1.178225</td>\n",
       "    </tr>\n",
       "    <tr>\n",
       "      <th>2</th>\n",
       "      <td>2020-03-04</td>\n",
       "      <td>São Paulo - capital</td>\n",
       "      <td>3</td>\n",
       "      <td>1.098612</td>\n",
       "      <td>1.448026</td>\n",
       "    </tr>\n",
       "    <tr>\n",
       "      <th>3</th>\n",
       "      <td>2020-03-05</td>\n",
       "      <td>São Paulo - capital</td>\n",
       "      <td>6</td>\n",
       "      <td>1.791759</td>\n",
       "      <td>1.717827</td>\n",
       "    </tr>\n",
       "    <tr>\n",
       "      <th>4</th>\n",
       "      <td>2020-03-06</td>\n",
       "      <td>São Paulo - capital</td>\n",
       "      <td>10</td>\n",
       "      <td>2.302585</td>\n",
       "      <td>1.987628</td>\n",
       "    </tr>\n",
       "  </tbody>\n",
       "</table>\n",
       "</div>"
      ],
      "text/plain": [
       "        date                state  cases       log       reg\n",
       "0 2020-02-25  São Paulo - capital      1  0.000000  0.908424\n",
       "1 2020-02-29  São Paulo - capital      2  0.693147  1.178225\n",
       "2 2020-03-04  São Paulo - capital      3  1.098612  1.448026\n",
       "3 2020-03-05  São Paulo - capital      6  1.791759  1.717827\n",
       "4 2020-03-06  São Paulo - capital     10  2.302585  1.987628"
      ]
     },
     "execution_count": 282,
     "metadata": {},
     "output_type": "execute_result"
    }
   ],
   "source": [
    "test.head()"
   ]
  },
  {
   "cell_type": "code",
   "execution_count": 277,
   "metadata": {},
   "outputs": [],
   "source": [
    "a, b = np.polyfit(test[\"index\"], test['log'], 1)"
   ]
  },
  {
   "cell_type": "code",
   "execution_count": 274,
   "metadata": {},
   "outputs": [
    {
     "data": {
      "text/html": [
       "<div>\n",
       "<style scoped>\n",
       "    .dataframe tbody tr th:only-of-type {\n",
       "        vertical-align: middle;\n",
       "    }\n",
       "\n",
       "    .dataframe tbody tr th {\n",
       "        vertical-align: top;\n",
       "    }\n",
       "\n",
       "    .dataframe thead th {\n",
       "        text-align: right;\n",
       "    }\n",
       "</style>\n",
       "<table border=\"1\" class=\"dataframe\">\n",
       "  <thead>\n",
       "    <tr style=\"text-align: right;\">\n",
       "      <th></th>\n",
       "      <th>index</th>\n",
       "      <th>date</th>\n",
       "      <th>state</th>\n",
       "      <th>cases</th>\n",
       "      <th>log</th>\n",
       "    </tr>\n",
       "  </thead>\n",
       "  <tbody>\n",
       "    <tr>\n",
       "      <th>0</th>\n",
       "      <td>0</td>\n",
       "      <td>2020-02-25</td>\n",
       "      <td>São Paulo - capital</td>\n",
       "      <td>1</td>\n",
       "      <td>0.000000</td>\n",
       "    </tr>\n",
       "    <tr>\n",
       "      <th>1</th>\n",
       "      <td>1</td>\n",
       "      <td>2020-02-29</td>\n",
       "      <td>São Paulo - capital</td>\n",
       "      <td>2</td>\n",
       "      <td>0.693147</td>\n",
       "    </tr>\n",
       "    <tr>\n",
       "      <th>2</th>\n",
       "      <td>2</td>\n",
       "      <td>2020-03-04</td>\n",
       "      <td>São Paulo - capital</td>\n",
       "      <td>3</td>\n",
       "      <td>1.098612</td>\n",
       "    </tr>\n",
       "    <tr>\n",
       "      <th>3</th>\n",
       "      <td>3</td>\n",
       "      <td>2020-03-05</td>\n",
       "      <td>São Paulo - capital</td>\n",
       "      <td>6</td>\n",
       "      <td>1.791759</td>\n",
       "    </tr>\n",
       "    <tr>\n",
       "      <th>4</th>\n",
       "      <td>4</td>\n",
       "      <td>2020-03-06</td>\n",
       "      <td>São Paulo - capital</td>\n",
       "      <td>10</td>\n",
       "      <td>2.302585</td>\n",
       "    </tr>\n",
       "  </tbody>\n",
       "</table>\n",
       "</div>"
      ],
      "text/plain": [
       "   index       date                state  cases       log\n",
       "0      0 2020-02-25  São Paulo - capital      1  0.000000\n",
       "1      1 2020-02-29  São Paulo - capital      2  0.693147\n",
       "2      2 2020-03-04  São Paulo - capital      3  1.098612\n",
       "3      3 2020-03-05  São Paulo - capital      6  1.791759\n",
       "4      4 2020-03-06  São Paulo - capital     10  2.302585"
      ]
     },
     "execution_count": 274,
     "metadata": {},
     "output_type": "execute_result"
    }
   ],
   "source": [
    "test.head()"
   ]
  },
  {
   "cell_type": "code",
   "execution_count": 266,
   "metadata": {},
   "outputs": [
    {
     "data": {
      "text/html": [
       "<div>\n",
       "<style scoped>\n",
       "    .dataframe tbody tr th:only-of-type {\n",
       "        vertical-align: middle;\n",
       "    }\n",
       "\n",
       "    .dataframe tbody tr th {\n",
       "        vertical-align: top;\n",
       "    }\n",
       "\n",
       "    .dataframe thead th {\n",
       "        text-align: right;\n",
       "    }\n",
       "</style>\n",
       "<table border=\"1\" class=\"dataframe\">\n",
       "  <thead>\n",
       "    <tr style=\"text-align: right;\">\n",
       "      <th></th>\n",
       "      <th>date</th>\n",
       "      <th>state</th>\n",
       "      <th>cases</th>\n",
       "    </tr>\n",
       "  </thead>\n",
       "  <tbody>\n",
       "    <tr>\n",
       "      <th>0</th>\n",
       "      <td>2020-02-25</td>\n",
       "      <td>São Paulo - capital</td>\n",
       "      <td>1</td>\n",
       "    </tr>\n",
       "    <tr>\n",
       "      <th>1</th>\n",
       "      <td>2020-02-29</td>\n",
       "      <td>São Paulo - capital</td>\n",
       "      <td>2</td>\n",
       "    </tr>\n",
       "    <tr>\n",
       "      <th>2</th>\n",
       "      <td>2020-03-04</td>\n",
       "      <td>São Paulo - capital</td>\n",
       "      <td>3</td>\n",
       "    </tr>\n",
       "    <tr>\n",
       "      <th>3</th>\n",
       "      <td>2020-03-05</td>\n",
       "      <td>São Paulo - capital</td>\n",
       "      <td>6</td>\n",
       "    </tr>\n",
       "    <tr>\n",
       "      <th>4</th>\n",
       "      <td>2020-03-06</td>\n",
       "      <td>São Paulo - capital</td>\n",
       "      <td>10</td>\n",
       "    </tr>\n",
       "  </tbody>\n",
       "</table>\n",
       "</div>"
      ],
      "text/plain": [
       "        date                state  cases\n",
       "0 2020-02-25  São Paulo - capital      1\n",
       "1 2020-02-29  São Paulo - capital      2\n",
       "2 2020-03-04  São Paulo - capital      3\n",
       "3 2020-03-05  São Paulo - capital      6\n",
       "4 2020-03-06  São Paulo - capital     10"
      ]
     },
     "execution_count": 266,
     "metadata": {},
     "output_type": "execute_result"
    }
   ],
   "source": [
    "sp_city_df.head()"
   ]
  },
  {
   "cell_type": "code",
   "execution_count": 270,
   "metadata": {},
   "outputs": [
    {
     "ename": "UFuncTypeError",
     "evalue": "ufunc 'add' cannot use operands with types dtype('<M8[ns]') and dtype('float64')",
     "output_type": "error",
     "traceback": [
      "\u001b[0;31m---------------------------------------------------------------------------\u001b[0m",
      "\u001b[0;31mUFuncTypeError\u001b[0m                            Traceback (most recent call last)",
      "\u001b[0;32m<ipython-input-270-275facce8c98>\u001b[0m in \u001b[0;36m<module>\u001b[0;34m\u001b[0m\n\u001b[0;32m----> 1\u001b[0;31m \u001b[0mnp\u001b[0m\u001b[0;34m.\u001b[0m\u001b[0mpolyfit\u001b[0m\u001b[0;34m(\u001b[0m\u001b[0msp_city_df\u001b[0m\u001b[0;34m[\u001b[0m\u001b[0;34m'date'\u001b[0m\u001b[0;34m]\u001b[0m\u001b[0;34m,\u001b[0m \u001b[0mnp\u001b[0m\u001b[0;34m.\u001b[0m\u001b[0mlog\u001b[0m\u001b[0;34m(\u001b[0m\u001b[0msp_city_df\u001b[0m\u001b[0;34m[\u001b[0m\u001b[0;34m'cases'\u001b[0m\u001b[0;34m]\u001b[0m\u001b[0;34m)\u001b[0m\u001b[0;34m,\u001b[0m \u001b[0;36m1\u001b[0m\u001b[0;34m)\u001b[0m\u001b[0;34m\u001b[0m\u001b[0;34m\u001b[0m\u001b[0m\n\u001b[0m",
      "\u001b[0;32m<__array_function__ internals>\u001b[0m in \u001b[0;36mpolyfit\u001b[0;34m(*args, **kwargs)\u001b[0m\n",
      "\u001b[0;32m~/anaconda3/lib/python3.7/site-packages/numpy/lib/polynomial.py\u001b[0m in \u001b[0;36mpolyfit\u001b[0;34m(x, y, deg, rcond, full, w, cov)\u001b[0m\n\u001b[1;32m    590\u001b[0m     \"\"\"\n\u001b[1;32m    591\u001b[0m     \u001b[0morder\u001b[0m \u001b[0;34m=\u001b[0m \u001b[0mint\u001b[0m\u001b[0;34m(\u001b[0m\u001b[0mdeg\u001b[0m\u001b[0;34m)\u001b[0m \u001b[0;34m+\u001b[0m \u001b[0;36m1\u001b[0m\u001b[0;34m\u001b[0m\u001b[0;34m\u001b[0m\u001b[0m\n\u001b[0;32m--> 592\u001b[0;31m     \u001b[0mx\u001b[0m \u001b[0;34m=\u001b[0m \u001b[0mNX\u001b[0m\u001b[0;34m.\u001b[0m\u001b[0masarray\u001b[0m\u001b[0;34m(\u001b[0m\u001b[0mx\u001b[0m\u001b[0;34m)\u001b[0m \u001b[0;34m+\u001b[0m \u001b[0;36m0.0\u001b[0m\u001b[0;34m\u001b[0m\u001b[0;34m\u001b[0m\u001b[0m\n\u001b[0m\u001b[1;32m    593\u001b[0m     \u001b[0my\u001b[0m \u001b[0;34m=\u001b[0m \u001b[0mNX\u001b[0m\u001b[0;34m.\u001b[0m\u001b[0masarray\u001b[0m\u001b[0;34m(\u001b[0m\u001b[0my\u001b[0m\u001b[0;34m)\u001b[0m \u001b[0;34m+\u001b[0m \u001b[0;36m0.0\u001b[0m\u001b[0;34m\u001b[0m\u001b[0;34m\u001b[0m\u001b[0m\n\u001b[1;32m    594\u001b[0m \u001b[0;34m\u001b[0m\u001b[0m\n",
      "\u001b[0;31mUFuncTypeError\u001b[0m: ufunc 'add' cannot use operands with types dtype('<M8[ns]') and dtype('float64')"
     ]
    }
   ],
   "source": [
    "np.polyfit(sp_city_df['date'], np.log(sp_city_df['cases']), 1)"
   ]
  },
  {
   "cell_type": "code",
   "execution_count": 269,
   "metadata": {},
   "outputs": [
    {
     "data": {
      "text/html": [
       "<div>\n",
       "<style scoped>\n",
       "    .dataframe tbody tr th:only-of-type {\n",
       "        vertical-align: middle;\n",
       "    }\n",
       "\n",
       "    .dataframe tbody tr th {\n",
       "        vertical-align: top;\n",
       "    }\n",
       "\n",
       "    .dataframe thead th {\n",
       "        text-align: right;\n",
       "    }\n",
       "</style>\n",
       "<table border=\"1\" class=\"dataframe\">\n",
       "  <thead>\n",
       "    <tr style=\"text-align: right;\">\n",
       "      <th></th>\n",
       "      <th>date</th>\n",
       "      <th>state</th>\n",
       "      <th>cases</th>\n",
       "      <th>log</th>\n",
       "    </tr>\n",
       "  </thead>\n",
       "  <tbody>\n",
       "    <tr>\n",
       "      <th>0</th>\n",
       "      <td>2020-02-25</td>\n",
       "      <td>São Paulo - capital</td>\n",
       "      <td>1</td>\n",
       "      <td>0.000000</td>\n",
       "    </tr>\n",
       "    <tr>\n",
       "      <th>1</th>\n",
       "      <td>2020-02-29</td>\n",
       "      <td>São Paulo - capital</td>\n",
       "      <td>2</td>\n",
       "      <td>0.693147</td>\n",
       "    </tr>\n",
       "    <tr>\n",
       "      <th>2</th>\n",
       "      <td>2020-03-04</td>\n",
       "      <td>São Paulo - capital</td>\n",
       "      <td>3</td>\n",
       "      <td>1.098612</td>\n",
       "    </tr>\n",
       "    <tr>\n",
       "      <th>3</th>\n",
       "      <td>2020-03-05</td>\n",
       "      <td>São Paulo - capital</td>\n",
       "      <td>6</td>\n",
       "      <td>1.791759</td>\n",
       "    </tr>\n",
       "    <tr>\n",
       "      <th>4</th>\n",
       "      <td>2020-03-06</td>\n",
       "      <td>São Paulo - capital</td>\n",
       "      <td>10</td>\n",
       "      <td>2.302585</td>\n",
       "    </tr>\n",
       "  </tbody>\n",
       "</table>\n",
       "</div>"
      ],
      "text/plain": [
       "        date                state  cases       log\n",
       "0 2020-02-25  São Paulo - capital      1  0.000000\n",
       "1 2020-02-29  São Paulo - capital      2  0.693147\n",
       "2 2020-03-04  São Paulo - capital      3  1.098612\n",
       "3 2020-03-05  São Paulo - capital      6  1.791759\n",
       "4 2020-03-06  São Paulo - capital     10  2.302585"
      ]
     },
     "execution_count": 269,
     "metadata": {},
     "output_type": "execute_result"
    }
   ],
   "source": [
    "sp_city_df.head()"
   ]
  }
 ],
 "metadata": {
  "kernelspec": {
   "display_name": "Python 3",
   "language": "python",
   "name": "python3"
  },
  "language_info": {
   "codemirror_mode": {
    "name": "ipython",
    "version": 3
   },
   "file_extension": ".py",
   "mimetype": "text/x-python",
   "name": "python",
   "nbconvert_exporter": "python",
   "pygments_lexer": "ipython3",
   "version": "3.7.4"
  }
 },
 "nbformat": 4,
 "nbformat_minor": 2
}
